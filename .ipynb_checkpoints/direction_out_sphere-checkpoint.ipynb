{
 "cells": [
  {
   "cell_type": "code",
   "execution_count": 1,
   "id": "84ea9668-3ff4-49d2-8d95-8c41415adf9b",
   "metadata": {},
   "outputs": [],
   "source": [
    "import numpy as np\n",
    "import random as rnd\n",
    "\n",
    "rnd.seed(9)"
   ]
  },
  {
   "cell_type": "code",
   "execution_count": null,
   "id": "3ac10e32-f218-4a27-bef8-90dbfadcf624",
   "metadata": {},
   "outputs": [],
   "source": [
    "def normalize(v:np.array):\n",
    "    norm_v = np.linalg.norm(v)\n",
    "    return v/norm_v"
   ]
  },
  {
   "cell_type": "markdown",
   "id": "84af8c01-97ef-4fa9-aa3b-f128ebd2413d",
   "metadata": {},
   "source": [
    "<img src=\"data/image_sphere.png\" alt=\"image\" width=\"40%\" height=\"auto\">"
   ]
  },
  {
   "cell_type": "markdown",
   "id": "a11399e1-9d4f-4538-b29e-90aabd68b7d4",
   "metadata": {},
   "source": [
    "The vector $\\mathbf{v}$ with respect to $\\mathbf{n}$ is characterized by two angles: $\\theta$ and $\\phi$\n",
    "\n",
    "To compute the angles $\\theta$ and $\\phi$ given a vector $\\mathbf{v}$ and the normal vector $\\mathbf{n}$, follow these steps:\n",
    "\n",
    "1. **Compute the angle $\\theta$ between $\\mathbf{v}$ and $\\mathbf{n}$:**\n",
    "   This angle is the arccosine of the dot product of the normalized vectors $\\mathbf{v}$ and $\\mathbf{n}$.\n",
    "\n",
    "2. **Project $\\mathbf{v}$ onto the plane orthogonal to $\\mathbf{n}$:**\n",
    "   This gives the vector $\\mathbf{v_p}$.\n",
    "\n",
    "3. **Compute the azimuthal angle $\\phi$:**\n",
    "   This angle is the arctangent of the ratio of the components of $\\mathbf{v_p}$ in the plane, using an appropriate reference direction.\n",
    "\n",
    "\n",
    "### Explanation of the Code\n",
    "\n",
    "1. **Normalization:**\n",
    "   - Normalize \\(\\mathbf{v}\\) and \\(\\mathbf{n}\\).\n",
    "\n",
    "2. **Angle \\(\\theta\\):**\n",
    "   - Calculate the dot product of \\(\\mathbf{v}\\) and \\(\\mathbf{n}\\).\n",
    "   - Use the arccosine to find \\(\\theta\\).\n",
    "\n",
    "3. **Projection onto the Plane:**\n",
    "   - Subtract the component of \\(\\mathbf{v}\\) along \\(\\mathbf{n}\\) to get \\(\\mathbf{v_p}\\).\n",
    "\n",
    "4. **Orthonormal Basis:**\n",
    "   - Find two orthonormal vectors \\(\\mathbf{u_1}\\) and \\(\\mathbf{u_2}\\) in the plane orthogonal to \\(\\mathbf{n}\\).\n",
    "\n",
    "5. **Azimuthal Angle \\(\\phi\\):**\n",
    "   - Use the arctangent of the ratio of the dot products of \\(\\mathbf{v_p}\\) with \\(\\mathbf{u_1}\\) and \\(\\mathbf{u_2}\\) to find \\(\\phi\\)."
   ]
  },
  {
   "cell_type": "markdown",
   "id": "92a440fe-d2a9-4725-9105-262b364ae030",
   "metadata": {},
   "source": [
    "================================================================================================================================"
   ]
  },
  {
   "cell_type": "markdown",
   "id": "ccefa59c-bc68-4b84-bd24-651e1807ad8f",
   "metadata": {},
   "source": [
    "To reconstruct the vector $\\mathbf{v}$ given the normal vector $\\mathbf{n}$ and the two angles that characterize $\\mathbf{v}$ with respect to $\\mathbf{n}$, we can proceed as follows:\n",
    "\n",
    "1. **Angle $\\theta$:** The angle between $\\mathbf{v}$ and $\\mathbf{n}$.\n",
    "\n",
    "2. **Azimuthal angle $\\phi$:** The angle between the projection of $\\mathbf{v}$ onto the plane orthogonal to $\\mathbf{n}$ and a reference direction in the plane (e.g., the x-axis).\n",
    "\n",
    "To reconstruct the vector:\n",
    "\n",
    "1. **Define the normal vector $\\mathbf{n}$:**\n",
    "   Normalize $\\mathbf{n}$ \n",
    "\n",
    "2. **Find two orthonormal vectors \\(\\mathbf{u_1}\\) and \\(\\mathbf{u_2}\\) in the plane orthogonal to \\(\\mathbf{n}\\):**\n",
    "   - Choose $\\mathbf{u_1}$ and $\\mathbf{u_2}$ such that they form an orthonormal basis for the plane orthogonal to \\(\\mathbf{n}\\).\n",
    "   - One way to find $\\mathbf{u_1}$ and $\\mathbf{u_2}$ is to use the Gram-Schmidt process or other methods to ensure orthogonality.\n",
    "\n",
    "3. **Use $\\theta$ and $\\phi$ to reconstruct $\\mathbf{v}$:**\n",
    "   - The component of $\\mathbf{v}$ along $\\mathbf{n}$ is:\n",
    "     $\n",
    "     \\mathbf{v_n} = |\\mathbf{v}| \\cos(\\theta) \\mathbf{\\hat{n}}\n",
    "     $\n",
    "   - The projection of $\\mathbf{v}$ onto the plane is:\n",
    "     $\n",
    "     \\mathbf{v_p} = |\\mathbf{v}| \\sin(\\theta) (\\cos(\\phi) \\mathbf{u_1} + \\sin(\\phi) \\mathbf{u_2})\n",
    "     $\n",
    "   - Combine these components to get $\\mathbf{v}$:\n",
    "     $\n",
    "     \\mathbf{v} = \\mathbf{v_n} + \\mathbf{v_p}\n",
    "     $"
   ]
  },
  {
   "cell_type": "code",
   "execution_count": 3,
   "id": "da80c793-abdc-414f-a6a7-fd1fc59831f7",
   "metadata": {},
   "outputs": [],
   "source": [
    "import numpy as np\n",
    "\n",
    "def find_orthonormal_basis(n):\n",
    "    # Normalize the normal vector\n",
    "    n_hat = n / np.linalg.norm(n)\n",
    "    \n",
    "    # Create an arbitrary vector that is not parallel to n_hat\n",
    "    if abs(n_hat[0]) < abs(n_hat[1]):\n",
    "        arbitrary = np.array([1, 0, 0])\n",
    "    else:\n",
    "        arbitrary = np.array([0, 1, 0])\n",
    "    \n",
    "    # Use Gram-Schmidt process to find u1 and u2\n",
    "    u1 = np.cross(n_hat, arbitrary)\n",
    "    u1 /= np.linalg.norm(u1)\n",
    "    \n",
    "    u2 = np.cross(n_hat, u1)\n",
    "    u2 /= np.linalg.norm(u2)\n",
    "    \n",
    "    return u1, u2\n",
    "\n",
    "def reconstruct_vector(n, theta, phi, v_magnitude=1):\n",
    "    # Normalize the normal vector\n",
    "    n_hat = n / np.linalg.norm(n)\n",
    "    \n",
    "    # Find orthonormal basis vectors u1 and u2\n",
    "    u1, u2 = find_orthonormal_basis(n)\n",
    "    \n",
    "    # Compute the components of v\n",
    "    v_n = v_magnitude * np.cos(np.radians(theta)) * n_hat\n",
    "    v_p = v_magnitude * np.sin(np.radians(theta)) * (np.cos(np.radians(phi)) * u1 + np.sin(np.radians(phi)) * u2)\n",
    "    \n",
    "    # Reconstruct the vector v\n",
    "    v = v_n + v_p\n",
    "    \n",
    "    return v\n",
    "\n",
    "def compute_angles(v, n):\n",
    "    # Normalize the vectors\n",
    "    v_norm = v / np.linalg.norm(v)\n",
    "    n_norm = n / np.linalg.norm(n)\n",
    "    \n",
    "    # Compute the angle theta\n",
    "    cos_theta = np.dot(v_norm, n_norm)\n",
    "    theta = np.arccos(cos_theta)\n",
    "    \n",
    "    # Project v onto the plane orthogonal to n\n",
    "    v_p = v - (np.dot(v, n_norm) * n_norm)\n",
    "    \n",
    "    # Normalize the projection vector\n",
    "    if np.linalg.norm(v_p) > 1e-6:  # to avoid division by zero\n",
    "        v_p_norm = v_p / np.linalg.norm(v_p)\n",
    "    else:\n",
    "        v_p_norm = v_p\n",
    "    \n",
    "    # Find orthonormal basis vectors in the plane\n",
    "    u1, u2 = find_orthonormal_basis(n)\n",
    "    \n",
    "    # Compute the azimuthal angle phi\n",
    "    phi = np.arctan2(np.dot(v_p_norm, u2), np.dot(v_p_norm, u1))\n",
    "    \n",
    "    # Convert angles to degrees\n",
    "    theta_deg = np.degrees(theta)\n",
    "    phi_deg = np.degrees(phi)\n",
    "    \n",
    "    return theta_deg, phi_deg\n",
    "\n"
   ]
  },
  {
   "cell_type": "code",
   "execution_count": 4,
   "id": "b9b11304-3cc6-481f-a8ab-b29c7720a915",
   "metadata": {},
   "outputs": [
    {
     "data": {
      "text/plain": [
       "array([-0.61237244, -0.35355339,  0.70710678])"
      ]
     },
     "execution_count": 4,
     "metadata": {},
     "output_type": "execute_result"
    }
   ],
   "source": [
    "# Example normal vector and angles\n",
    "n = np.array([0, 0, 1.0])\n",
    "theta = 45  # Angle between v and n in degrees\n",
    "phi = 30    # Azimuthal angle in the plane orthogonal to n in degrees\n",
    "\n",
    "# Reconstruct the vector v\n",
    "v_reconstructed = reconstruct_vector(n, theta, phi)\n",
    "v_reconstructed"
   ]
  },
  {
   "cell_type": "code",
   "execution_count": 5,
   "id": "3bfc1c2f-e7f4-457d-bf8d-2b7603691875",
   "metadata": {},
   "outputs": [
    {
     "data": {
      "text/plain": [
       "(45.00000018707292, 29.999999783986787)"
      ]
     },
     "execution_count": 5,
     "metadata": {},
     "output_type": "execute_result"
    }
   ],
   "source": [
    "# Example vectors\n",
    "v = np.array([-0.61237244, -0.35355339,  0.70710678])\n",
    "n = np.array([0, 0, 1])\n",
    "\n",
    "# Compute the angles\n",
    "theta, phi = compute_angles(v, n)\n",
    "theta, phi\n"
   ]
  },
  {
   "cell_type": "code",
   "execution_count": null,
   "id": "96458221-acc3-48ab-904e-caacc39f1833",
   "metadata": {},
   "outputs": [],
   "source": [
    "\n"
   ]
  }
 ],
 "metadata": {
  "kernelspec": {
   "display_name": "Python 3 (ipykernel)",
   "language": "python",
   "name": "python3"
  },
  "language_info": {
   "codemirror_mode": {
    "name": "ipython",
    "version": 3
   },
   "file_extension": ".py",
   "mimetype": "text/x-python",
   "name": "python",
   "nbconvert_exporter": "python",
   "pygments_lexer": "ipython3",
   "version": "3.12.4"
  }
 },
 "nbformat": 4,
 "nbformat_minor": 5
}
