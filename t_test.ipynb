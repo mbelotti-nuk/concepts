{
 "cells": [
  {
   "cell_type": "markdown",
   "metadata": {},
   "source": [
    "# Two-sample t-test for equal means\n",
    "The two-sample t-test for unpaired data is defined as:<br>\n",
    "* Null hypothesis $H_0$: $\\begin{align} {\\mu}_1 = {\\mu}_2 \\end{align}$\n",
    "* Alternative hypothesis $H_a$: $\\begin{align} {\\mu}_1 \\neq {\\mu}_2 \\end{align}$\n",
    "\n",
    "The test statistic is defined as:\n",
    "$\\begin{align}T=\\frac{\\bar{Y}_1 - \\bar{Y}_2}{\\sqrt{\\frac{{s_1}^2}{N_1} + \\frac{{s_2}^2}{N_2}}}\\end{align}$\n",
    "where $s_1$ and $s_2$ are the sample variances."
   ]
  },
  {
   "cell_type": "markdown",
   "metadata": {},
   "source": [
    "## Rejection of the null hypothesis \n",
    "Considering a significance level $\\alpha$, the **critical region** where the null hypothesis is rejected (i.e., the two mean are not equal) happens when:\n",
    "$\\begin{align}|T| > t_{1-\\frac{\\alpha}{2}, \\nu}\\end{align}$\n",
    "where $t_{1-\\frac{\\alpha}{2}, \\nu} $ is the *critical value* of the t-distribution with $\\nu$ degress of freedom. <br>\n",
    "The degrees of freedom are defined as:\n",
    "$\\begin{align} \\nu = \\frac{({s^2}_1/N_1 + {s^2}_2/N_2)^2}{({s^2}_1/N_1)^2/(N_1-1) + ({s^2}_2/N_2)^2/(N_2-1) } \\end{align}$"
   ]
  },
  {
   "cell_type": "markdown",
   "metadata": {},
   "source": [
    "## T-test table\n",
    "\n",
    "Critical values of Student's t distribution with ν degrees of freedom\n",
    "     Probability less than the critical value $t_{1-\\alpha}$\n",
    "\n",
    "|  ν    |     0.90  |  0.95 |  0.975 |   0.99 |  0.995 |  0.999 |\n",
    "|-------|-----------|-------|--------|--------|--------|--------|                             \n",
    "|  1.   |    3.078  | 6.314 | 12.706 | 31.821 | 63.657 |318.309 |\n",
    "|  2.   |    1.886  | 2.920 |  4.303 |  6.965 |  9.925 | 22.327 |\n",
    "|  3.   |    1.638  | 2.353 |  3.182 |  4.541 |  5.841 | 10.215 |\n",
    "|  4.   |    1.533  | 2.132 |  2.776 |  3.747 |  4.604 |  7.173 |\n",
    "|  5.   |    1.476  | 2.015 |  2.571 |  3.365 |  4.032 |  5.893 |\n",
    "|  6.   |    1.440  | 1.943 |  2.447 |  3.143 |  3.707 |  5.208 |\n",
    "|  7.   |    1.415  | 1.895 |  2.365 |  2.998 |  3.499 |  4.785 |\n",
    "|  8.   |    1.397  | 1.860 |  2.306 |  2.896 |  3.355 |  4.501 |\n",
    "|  9.   |    1.383  | 1.833 |  2.262 |  2.821 |  3.250 |  4.297 |\n",
    "| 10.   |    1.372  | 1.812 |  2.228 |  2.764 |  3.169 |  4.144 |\n",
    "| 11.   |    1.363  | 1.796 |  2.201 |  2.718 |  3.106 |  4.025 |\n",
    "| 12.   |    1.356  | 1.782 |  2.179 |  2.681 |  3.055 |  3.930 |\n",
    "| 13.   |    1.350  | 1.771 |  2.160 |  2.650 |  3.012 |  3.852 |\n",
    "| 14.   |    1.345  | 1.761 |  2.145 |  2.624 |  2.977 |  3.787 |\n",
    "| 15.   |    1.341  | 1.753 |  2.131 |  2.602 |  2.947 |  3.733 |\n",
    "| 16.   |    1.337  | 1.746 |  2.120 |  2.583 |  2.921 |  3.686 |\n",
    "| 17.   |    1.333  | 1.740 |  2.110 |  2.567 |  2.898 |  3.646 |\n",
    "| 18.   |    1.330  | 1.734 |  2.101 |  2.552 |  2.878 |  3.610 |\n",
    "| 19.   |    1.328  | 1.729 |  2.093 |  2.539 |  2.861 |  3.579 |\n",
    "| 20.   |    1.325  | 1.725 |  2.086 |  2.528 |  2.845 |  3.552 |\n",
    "| 21.   |    1.323  | 1.721 |  2.080 |  2.518 |  2.831 |  3.527 |\n",
    "| 22.   |    1.321  | 1.717 |  2.074 |  2.508 |  2.819 |  3.505 |\n",
    "| 23.   |    1.319  | 1.714 |  2.069 |  2.500 |  2.807 |  3.485 |\n",
    "| 24.   |    1.318  | 1.711 |  2.064 |  2.492 |  2.797 |  3.467 |\n",
    "| 25.   |    1.316  | 1.708 |  2.060 |  2.485 |  2.787 |  3.450 |\n",
    "| 26.   |    1.315  | 1.706 |  2.056 |  2.479 |  2.779 |  3.435 |\n",
    "| 27.   |    1.314  | 1.703 |  2.052 |  2.473 |  2.771 |  3.421 |\n",
    "| 28.   |    1.313  | 1.701 |  2.048 |  2.467 |  2.763 |  3.408 |\n",
    "| 29.   |    1.311  | 1.699 |  2.045 |  2.462 |  2.756 |  3.396 |\n",
    "| 30.   |    1.310  | 1.697 |  2.042 |  2.457 |  2.750 |  3.385 |\n",
    "| 31.   |    1.309  | 1.696 |  2.040 |  2.453 |  2.744 |  3.375 |\n",
    "| 32.   |    1.309  | 1.694 |  2.037 |  2.449 |  2.738 |  3.365 |\n",
    "| 33.   |    1.308  | 1.692 |  2.035 |  2.445 |  2.733 |  3.356 |\n",
    "| 34.   |    1.307  | 1.691 |  2.032 |  2.441 |  2.728 |  3.348 |\n",
    "| 35.   |    1.306  | 1.690 |  2.030 |  2.438 |  2.724 |  3.340 |\n",
    "| 36.   |    1.306  | 1.688 |  2.028 |  2.434 |  2.719 |  3.333 |\n",
    "| 37.   |    1.305  | 1.687 |  2.026 |  2.431 |  2.715 |  3.326 |\n",
    "| 38.   |    1.304  | 1.686 |  2.024 |  2.429 |  2.712 |  3.319 |\n",
    "| 39.   |    1.304  | 1.685 |  2.023 |  2.426 |  2.708 |  3.313 |\n",
    "| 40.   |    1.303  | 1.684 |  2.021 |  2.423 |  2.704 |  3.307 |\n",
    "| 41.   |    1.303  | 1.683 |  2.020 |  2.421 |  2.701 |  3.301 |\n",
    "| 42.   |    1.302  | 1.682 |  2.018 |  2.418 |  2.698 |  3.296 |\n",
    "| 43.   |    1.302  | 1.681 |  2.017 |  2.416 |  2.695 |  3.291 |\n",
    "| 44.   |    1.301  | 1.680 |  2.015 |  2.414 |  2.692 |  3.286 |\n",
    "| 45.   |    1.301  | 1.679 |  2.014 |  2.412 |  2.690 |  3.281 |\n",
    "| 46.   |    1.300  | 1.679 |  2.013 |  2.410 |  2.687 |  3.277 |\n",
    "| 47.   |    1.300  | 1.678 |  2.012 |  2.408 |  2.685 |  3.273 |\n",
    "| 48.   |    1.299  | 1.677 |  2.011 |  2.407 |  2.682 |  3.269 |\n",
    "| 49.   |    1.299  | 1.677 |  2.010 |  2.405 |  2.680 |  3.265 |\n",
    "| 50.   |    1.299  | 1.676 |  2.009 |  2.403 |  2.678 |  3.261 |\n",
    "| 51.   |    1.298  | 1.675 |  2.008 |  2.402 |  2.676 |  3.258 |\n",
    "| 52.   |    1.298  | 1.675 |  2.007 |  2.400 |  2.674 |  3.255 |\n",
    "| 53.   |    1.298  | 1.674 |  2.006 |  2.399 |  2.672 |  3.251 |\n",
    "| 54.   |    1.297  | 1.674 |  2.005 |  2.397 |  2.670 |  3.248 |\n",
    "| 55.   |    1.297  | 1.673 |  2.004 |  2.396 |  2.668 |  3.245 |\n",
    "| 56.   |    1.297  | 1.673 |  2.003 |  2.395 |  2.667 |  3.242 |\n",
    "| 57.   |    1.297  | 1.672 |  2.002 |  2.394 |  2.665 |  3.239 |\n",
    "| 58.   |    1.296  | 1.672 |  2.002 |  2.392 |  2.663 |  3.237 |\n",
    "| 59.   |    1.296  | 1.671 |  2.001 |  2.391 |  2.662 |  3.234 |\n",
    "| 60.   |    1.296  | 1.671 |  2.000 |  2.390 |  2.660 |  3.232 |\n",
    "| 61.   |    1.296  | 1.670 |  2.000 |  2.389 |  2.659 |  3.229 |\n",
    "| 62.   |    1.295  | 1.670 |  1.999 |  2.388 |  2.657 |  3.227 |\n",
    "| 63.   |    1.295  | 1.669 |  1.998 |  2.387 |  2.656 |  3.225 |\n",
    "| 64.   |    1.295  | 1.669 |  1.998 |  2.386 |  2.655 |  3.223 |\n",
    "| 65.   |    1.295  | 1.669 |  1.997 |  2.385 |  2.654 |  3.220 |\n",
    "| 66.   |    1.295  | 1.668 |  1.997 |  2.384 |  2.652 |  3.218 |\n",
    "| 67.   |    1.294  | 1.668 |  1.996 |  2.383 |  2.651 |  3.216 |\n",
    "| 68.   |    1.294  | 1.668 |  1.995 |  2.382 |  2.650 |  3.214 |\n",
    "| 69.   |    1.294  | 1.667 |  1.995 |  2.382 |  2.649 |  3.213 |\n",
    "| 70.   |    1.294  | 1.667 |  1.994 |  2.381 |  2.648 |  3.211 |\n",
    "| 71.   |    1.294  | 1.667 |  1.994 |  2.380 |  2.647 |  3.209 |\n",
    "| 72.   |    1.293  | 1.666 |  1.993 |  2.379 |  2.646 |  3.207 |\n",
    "| 73.   |    1.293  | 1.666 |  1.993 |  2.379 |  2.645 |  3.206 |\n",
    "| 74.   |    1.293  | 1.666 |  1.993 |  2.378 |  2.644 |  3.204 |\n",
    "| 75.   |    1.293  | 1.665 |  1.992 |  2.377 |  2.643 |  3.202 |\n",
    "| 76.   |    1.293  | 1.665 |  1.992 |  2.376 |  2.642 |  3.201 |\n",
    "| 77.   |    1.293  | 1.665 |  1.991 |  2.376 |  2.641 |  3.199 |\n",
    "| 78.   |    1.292  | 1.665 |  1.991 |  2.375 |  2.640 |  3.198 |\n",
    "| 79.   |    1.292  | 1.664 |  1.990 |  2.374 |  2.640 |  3.197 |\n",
    "| 80.   |    1.292  | 1.664 |  1.990 |  2.374 |  2.639 |  3.195 |\n",
    "| 81.   |    1.292  | 1.664 |  1.990 |  2.373 |  2.638 |  3.194 |\n",
    "| 82.   |    1.292  | 1.664 |  1.989 |  2.373 |  2.637 |  3.193 |\n",
    "| 83.   |    1.292  | 1.663 |  1.989 |  2.372 |  2.636 |  3.191 |\n",
    "| 84.   |    1.292  | 1.663 |  1.989 |  2.372 |  2.636 |  3.190 |\n",
    "| 85.   |    1.292  | 1.663 |  1.988 |  2.371 |  2.635 |  3.189 |\n",
    "| 86.   |    1.291  | 1.663 |  1.988 |  2.370 |  2.634 |  3.188 |\n",
    "| 87.   |    1.291  | 1.663 |  1.988 |  2.370 |  2.634 |  3.187 |\n",
    "| 88.   |    1.291  | 1.662 |  1.987 |  2.369 |  2.633 |  3.185 |\n",
    "| 89.   |    1.291  | 1.662 |  1.987 |  2.369 |  2.632 |  3.184 |\n",
    "| 90.   |    1.291  | 1.662 |  1.987 |  2.368 |  2.632 |  3.183 |\n",
    "| 91.   |    1.291  | 1.662 |  1.986 |  2.368 |  2.631 |  3.182 |\n",
    "| 92.   |    1.291  | 1.662 |  1.986 |  2.368 |  2.630 |  3.181 |\n",
    "| 93.   |    1.291  | 1.661 |  1.986 |  2.367 |  2.630 |  3.180 |\n",
    "| 94.   |    1.291  | 1.661 |  1.986 |  2.367 |  2.629 |  3.179 |\n",
    "| 95.   |    1.291  | 1.661 |  1.985 |  2.366 |  2.629 |  3.178 |\n",
    "| 96.   |    1.290  | 1.661 |  1.985 |  2.366 |  2.628 |  3.177 |\n",
    "| 97.   |    1.290  | 1.661 |  1.985 |  2.365 |  2.627 |  3.176 |\n",
    "| 98.   |    1.290  | 1.661 |  1.984 |  2.365 |  2.627 |  3.175 |\n",
    "| 99.   |    1.290  | 1.660 |  1.984 |  2.365 |  2.626 |  3.175 |\n",
    "|100.   |    1.290  | 1.660 |  1.984 |  2.364 |  2.626 |  3.174 |\n",
    "\n",
    "\n",
    "**Normal Values** <br>\n",
    "|  ν    |     0.90  |  0.95 |  0.975 |   0.99 |  0.995 |  0.999 |\n",
    "|-------|-----------|-------|--------|--------|--------|--------| \n",
    "|100.    |   1.282  | 1.645 |  1.960 |  2.326 |  2.576 |  3.090 |\n",
    "|infinity | 1.282   | 1.645 |  1.960 |  2.326 |  2.576 |  3.090 |\n"
   ]
  },
  {
   "cell_type": "code",
   "execution_count": 1,
   "metadata": {},
   "outputs": [
    {
     "name": "stdout",
     "output_type": "stream",
     "text": [
      "mcnp reading\n"
     ]
    }
   ],
   "source": [
    "from nacarte.out_reader import MeshReader\n",
    "\n",
    "mesh = MeshReader()\n",
    "\n",
    "nacarte_tallies = mesh.read_NACARTE_out(\"Data/nacarte_result.txt\")\n",
    "mcnp_tallies = mesh.read_meshtal(\"Data/meshtal\")"
   ]
  },
  {
   "cell_type": "code",
   "execution_count": 2,
   "metadata": {},
   "outputs": [
    {
     "name": "stdout",
     "output_type": "stream",
     "text": [
      "The tallies that rejected null hypothesis are 3 over 12000\n"
     ]
    }
   ],
   "source": [
    "import math\n",
    "\n",
    "# the degrees of freedom should be -> infinite\n",
    "t_1_alfa = 1.960\n",
    "INTENSITY = 2.1587428e+17\n",
    "\n",
    "# counter for tallies who does rejected null hypothesis\n",
    "no_null = 0\n",
    "\n",
    "counter = 0\n",
    "t_stat = []\n",
    "\n",
    "for nacarte, mcnp in zip(nacarte_tallies, mcnp_tallies):\n",
    "    counter += 1\n",
    "    mcnp_res = mcnp.result * INTENSITY\n",
    "\n",
    "    sigma_2_mcnp = ( mcnp_res * mcnp.error ) ** 2 \n",
    "    sigma_2_nacarte = ( nacarte.result * nacarte.error ) ** 2 \n",
    "    \n",
    "    T = (nacarte.result - mcnp_res)/(math.sqrt(sigma_2_mcnp+sigma_2_nacarte))\n",
    "    t_stat.append(T)\n",
    "\n",
    "    if(abs(T) > t_1_alfa):\n",
    "        no_null += 1\n",
    "\n",
    "print(f\"The tallies that rejected null hypothesis are {no_null} over {len(nacarte_tallies)}\")\n"
   ]
  },
  {
   "cell_type": "code",
   "execution_count": 3,
   "metadata": {},
   "outputs": [
    {
     "name": "stdout",
     "output_type": "stream",
     "text": [
      "mean 0.015557518428157096  std 0.5110943631707422\n"
     ]
    },
    {
     "data": {
      "image/png": "[encoded data removed]",
      "text/plain": [
       "<Figure size 640x480 with 1 Axes>"
      ]
     },
     "metadata": {},
     "output_type": "display_data"
    }
   ],
   "source": [
    "from matplotlib import pyplot as plt\n",
    "import numpy as np\n",
    "from scipy.stats import t\n",
    "\n",
    "\n",
    "plt.vlines(x = t_1_alfa, ymin = 0, ymax = 1,linestyles=\"dashed\", colors=\"black\")\n",
    "plt.vlines(x = -t_1_alfa, ymin = 0, ymax = 1, linestyles=\"dashed\", colors=\"black\")\n",
    "\n",
    "plt.axvspan(-t_1_alfa, t_1_alfa, facecolor='palegreen', alpha=0.5, label=\"Null hyphotesis region\")\n",
    "plt.axvspan(-3, -t_1_alfa, facecolor='red', alpha=0.5, label=\"Alternative hyphotesis region\")\n",
    "plt.axvspan(t_1_alfa, 3,facecolor='red', alpha=0.5)\n",
    "\n",
    "plt.hist(t_stat, bins=60, color=\"steelblue\", alpha=0.7, density=True, label=\"T distribution MCNP vs. NACARTE\")\n",
    "\n",
    "\n",
    "plt.xlabel(\"T statistic\")\n",
    "plt.ylabel(\"Frequency\")\n",
    "plt.legend()\n",
    "plt.ylim([0, 0.9])\n",
    "plt.xlim([-3,3])\n",
    "print(f\"mean {np.mean(t_stat)}  std {np.std(t_stat)}\")"
   ]
  },
  {
   "cell_type": "code",
   "execution_count": 4,
   "metadata": {},
   "outputs": [
    {
     "name": "stdout",
     "output_type": "stream",
     "text": [
      "n=97 out of sigma in 12000\n",
      "this correspond to 0.008083333333333333\n"
     ]
    }
   ],
   "source": [
    "out_of = 0\n",
    "for nacarte, mcnp in zip(nacarte_tallies, mcnp_tallies):\n",
    "    counter += 1\n",
    "    mcnp_res = mcnp.result * INTENSITY\n",
    "\n",
    "    sigma = mcnp_res * mcnp.error +  nacarte.result * nacarte.error \n",
    "    mus = abs(nacarte.result - mcnp_res)\n",
    "\n",
    "    if(mus > sigma):\n",
    "        out_of += 1\n",
    "print(f\"n={out_of} out of sigma in {len(nacarte_tallies)}\")\n",
    "print(f\"this correspond to {out_of/len(nacarte_tallies)}\")"
   ]
  },
  {
   "cell_type": "code",
   "execution_count": null,
   "metadata": {},
   "outputs": [],
   "source": []
  }
 ],
 "metadata": {
  "kernelspec": {
   "display_name": "py312",
   "language": "python",
   "name": "python3"
  },
  "language_info": {
   "codemirror_mode": {
    "name": "ipython",
    "version": 3
   },
   "file_extension": ".py",
   "mimetype": "text/x-python",
   "name": "python",
   "nbconvert_exporter": "python",
   "pygments_lexer": "ipython3",
   "version": "3.8.10"
  }
 },
 "nbformat": 4,
 "nbformat_minor": 2
}
